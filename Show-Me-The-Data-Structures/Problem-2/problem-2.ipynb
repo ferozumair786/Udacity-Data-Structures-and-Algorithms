{
 "cells": [
  {
   "cell_type": "code",
   "execution_count": 65,
   "metadata": {},
   "outputs": [],
   "source": [
    "def find_files(suffix, path=\".\"):\n",
    "    \"\"\"\n",
    "    Find all files beneath path with file name suffix.\n",
    "\n",
    "    Note that a path may contain further subdirectories\n",
    "    and those subdirectories may also contain further subdirectories.\n",
    "\n",
    "    There are no limit to the depth of the subdirectories can be.\n",
    "\n",
    "    Args:\n",
    "      suffix(str): suffix if the file name to be found\n",
    "      path(str): path of the file system\n",
    "\n",
    "    Returns:\n",
    "       a list of paths\n",
    "    \"\"\"\n",
    "    import os\n",
    "\n",
    "    #null check for path and suffix\n",
    "    if len(suffix) <= 256 and len(path) <= 256:\n",
    "      if os.path.isfile(path):\n",
    "        #print(path)\n",
    "        if path.endswith(suffix):\n",
    "          print(path)\n",
    "      elif os.path.isdir(path):\n",
    "        subdirectories = os.listdir(path)\n",
    "        for directory in subdirectories:\n",
    "          find_files(suffix, os.path.join(path,directory))\n",
    "    else:\n",
    "      print(\"file path exceeded length of 256\")\n",
    "\n",
    "# Add your own test cases: include at least three test cases\n",
    "# and two of them must include edge cases, such as null, empty or very large values\n",
    "\n",
    "# Test Case 1\n",
    "#suffix is null\n",
    "find_files(\"./testdir\")\n",
    "\n",
    "# Test Case 2\n",
    "#directory is null\n",
    "find_files(\".c\")\n",
    "\n",
    "# Test Case 3\n",
    "#too long of a path\n",
    "#catcn windows limit of 256 characters\n",
    "find_files(\"Users\\wumpus-home\\AppData\\Local\\Packages\\WinStore_cw5n1h2txyewy\\AC\\Microsoft\\Windows Store\\Cache\\0\\0-Namespace-https???services.apps.microsoft.com?browse?6.2.9200-1?615?en-US?c?US?Namespace?pc?00000000-0000-0000-0000-000000000000?00000000-0000-0000-0000-000000000000\", \"testdir\")\n",
    "\n",
    "#OS Module Exploration Code\n",
    "## Locally save and call this file ex.py ##\n",
    "\n",
    "# Code to demonstrate the use of some of the OS modules in python\n",
    "\n"
   ]
  },
  {
   "cell_type": "code",
   "execution_count": 51,
   "metadata": {},
   "outputs": [
    {
     "name": "stdout",
     "output_type": "stream",
     "text": [
      "['problem-2.ipynb', 'problem-2.py', 'README', 'testdir']\n",
      "False\n",
      "True\n",
      "True\n"
     ]
    }
   ],
   "source": [
    "import os\n",
    "\n",
    "# Let us print the files in the directory in which you are running this script\n",
    "print (os.listdir(\".\"))\n",
    "\n",
    "# Let us check if this file is indeed a file!\n",
    "print (os.path.isfile(\"testdir\"))\n",
    "\n",
    "print (os.path.isdir(\"testdir\"))\n",
    "\n",
    "# Does the file end with .py?\n",
    "print (\"./ex.py\".endswith(\".py\"))"
   ]
  },
  {
   "cell_type": "code",
   "execution_count": 20,
   "metadata": {},
   "outputs": [
    {
     "name": "stdout",
     "output_type": "stream",
     "text": [
      "['a.c', 'a.h']\n",
      "['.gitkeep']\n",
      "['subsubdir1']\n",
      "['.gitkeep']\n",
      "['a.c', 'a.h']\n"
     ]
    },
    {
     "ename": "NotADirectoryError",
     "evalue": "[WinError 267] The directory name is invalid: 'testdir\\\\t1.c'",
     "output_type": "error",
     "traceback": [
      "\u001b[1;31m---------------------------------------------------------------------------\u001b[0m",
      "\u001b[1;31mNotADirectoryError\u001b[0m                        Traceback (most recent call last)",
      "\u001b[1;32m<ipython-input-20-defd167ef9d8>\u001b[0m in \u001b[0;36m<module>\u001b[1;34m\u001b[0m\n\u001b[0;32m      2\u001b[0m \u001b[1;33m\u001b[0m\u001b[0m\n\u001b[0;32m      3\u001b[0m \u001b[1;32mfor\u001b[0m \u001b[0mdir\u001b[0m \u001b[1;32min\u001b[0m \u001b[0msubdirectories\u001b[0m\u001b[1;33m:\u001b[0m\u001b[1;33m\u001b[0m\u001b[1;33m\u001b[0m\u001b[0m\n\u001b[1;32m----> 4\u001b[1;33m     \u001b[0mprint\u001b[0m\u001b[1;33m(\u001b[0m\u001b[0mos\u001b[0m\u001b[1;33m.\u001b[0m\u001b[0mlistdir\u001b[0m\u001b[1;33m(\u001b[0m\u001b[0mos\u001b[0m\u001b[1;33m.\u001b[0m\u001b[0mpath\u001b[0m\u001b[1;33m.\u001b[0m\u001b[0mjoin\u001b[0m\u001b[1;33m(\u001b[0m\u001b[1;34m\"testdir\"\u001b[0m\u001b[1;33m,\u001b[0m \u001b[0mdir\u001b[0m\u001b[1;33m)\u001b[0m\u001b[1;33m)\u001b[0m\u001b[1;33m)\u001b[0m\u001b[1;33m\u001b[0m\u001b[1;33m\u001b[0m\u001b[0m\n\u001b[0m",
      "\u001b[1;31mNotADirectoryError\u001b[0m: [WinError 267] The directory name is invalid: 'testdir\\\\t1.c'"
     ]
    }
   ],
   "source": [
    "subdirectories = os.listdir(\"testdir\")\n",
    "\n",
    "for dir in subdirectories:\n",
    "    print(os.listdir(os.path.join(\"testdir\", dir)))"
   ]
  },
  {
   "cell_type": "code",
   "execution_count": 54,
   "metadata": {},
   "outputs": [
    {
     "name": "stdout",
     "output_type": "stream",
     "text": [
      "./testdir\\subdir1\\a.c\n",
      "./testdir\\subdir3\\subsubdir1\\b.c\n",
      "./testdir\\subdir5\\a.c\n",
      "./testdir\\t1.c\n"
     ]
    }
   ],
   "source": [
    "find_files(\".c\", \"./testdir\")"
   ]
  },
  {
   "cell_type": "code",
   "execution_count": 62,
   "metadata": {},
   "outputs": [],
   "source": [
    "# Test Case 1\n",
    "#suffix is null\n",
    "find_files(\"./testdir\")\n"
   ]
  },
  {
   "cell_type": "code",
   "execution_count": 63,
   "metadata": {},
   "outputs": [
    {
     "name": "stdout",
     "output_type": "stream",
     "text": [
      ".\\testdir\\subdir1\\a.c\n",
      ".\\testdir\\subdir3\\subsubdir1\\b.c\n",
      ".\\testdir\\subdir5\\a.c\n",
      ".\\testdir\\t1.c\n"
     ]
    }
   ],
   "source": [
    "# Test Case 2\n",
    "#directory is null\n",
    "find_files(\".c\")"
   ]
  },
  {
   "cell_type": "code",
   "execution_count": 69,
   "metadata": {},
   "outputs": [
    {
     "name": "stdout",
     "output_type": "stream",
     "text": [
      "file path exceeded length of 256\n"
     ]
    }
   ],
   "source": [
    "# Test Case 3\n",
    "#too long of a path\n",
    "#catcn windows limit of 256 characters\n",
    "find_files(\"Users\\wumpus-home\\AppData\\Local\\Packages\\WinStore_cw5n1h2txyewy\\AC\\Microsoft\\Windows Store\\Cache\\0\\0-Namespace-https???services.apps.microsoft.com?browse?6.2.9200-1?615?en-US?c?US?Namespace?pc?00000000-0000-0000-0000-000000000000?00000000-0000-0000-0000-000000000000\", \"testdir\")"
   ]
  },
  {
   "cell_type": "code",
   "execution_count": null,
   "metadata": {},
   "outputs": [],
   "source": []
  }
 ],
 "metadata": {
  "interpreter": {
   "hash": "539e7d299b3df3a8010ebe89bfbcdc2451afee0fdff2ba38101ac841f5d50953"
  },
  "kernelspec": {
   "display_name": "Python 3.6.8 64-bit",
   "language": "python",
   "name": "python3"
  },
  "language_info": {
   "codemirror_mode": {
    "name": "ipython",
    "version": 3
   },
   "file_extension": ".py",
   "mimetype": "text/x-python",
   "name": "python",
   "nbconvert_exporter": "python",
   "pygments_lexer": "ipython3",
   "version": "3.6.8"
  },
  "orig_nbformat": 4
 },
 "nbformat": 4,
 "nbformat_minor": 2
}
