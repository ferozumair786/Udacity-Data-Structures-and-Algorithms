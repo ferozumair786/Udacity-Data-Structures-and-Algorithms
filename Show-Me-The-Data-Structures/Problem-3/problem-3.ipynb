{
 "cells": [
  {
   "cell_type": "code",
   "execution_count": 66,
   "metadata": {},
   "outputs": [
    {
     "name": "stdout",
     "output_type": "stream",
     "text": [
      "The size of the data is: 83\n",
      "\n"
     ]
    }
   ],
   "source": [
    "    import sys\n",
    "    \n",
    "    a_great_sentence = \"The bird is the word on the street\"\n",
    "\n",
    "    print (\"The size of the data is: {}\\n\".format(sys.getsizeof(a_great_sentence)))"
   ]
  },
  {
   "cell_type": "code",
   "execution_count": 137,
   "metadata": {},
   "outputs": [],
   "source": [
    "    def huffman_encoding(data):\n",
    "        #establish classes\n",
    "        class Node:\n",
    "            def __init__(self, value):\n",
    "                self.value = value\n",
    "                self.right = None\n",
    "                self.left = None\n",
    "                self.frequency = 1\n",
    "\n",
    "        class Queue:\n",
    "            def __init__(self):\n",
    "                self.head = None\n",
    "                self.tail = None\n",
    "                self.size = 0\n",
    "                self.dict = dict()\n",
    "            \n",
    "            def shape(self):\n",
    "                # curr = self.head\n",
    "                # for i in range(len(self.dict)):\n",
    "                #     print(i, curr.value, curr.frequency)\n",
    "                #     curr = curr.right\n",
    "                #     i+=1\n",
    "                for key in reversed(list(self.dict.keys())):\n",
    "                     node = self.dict.get(key)\n",
    "                     print(node.value, node.frequency)\n",
    "            \n",
    "            \n",
    "            def enqueue(self, value):\n",
    "                \"\"\" Prepend a node to the beginning of the list \"\"\"\n",
    "\n",
    "                if self.head is None:\n",
    "                    self.head = Node(value)\n",
    "                    self.tail = self.head\n",
    "                    return\n",
    "\n",
    "                new_head = Node(value)\n",
    "                new_head.right = self.head\n",
    "                self.head.left = new_head\n",
    "                self.head = new_head\n",
    "                self.size += 1\n",
    "            \n",
    "            def is_empty(self):\n",
    "                return self.size == 0\n",
    "\n",
    "            def dequeue(self):\n",
    "                if self.is_empty():\n",
    "                    return None\n",
    "                value = self.head.value          \n",
    "                self.head = self.head.next       \n",
    "                self.size -= 1\n",
    "                return value\n",
    "\n",
    "            def shift(self, key):\n",
    "                \"\"\"Shift the node left or right based on whether it is \"\"\"\n",
    "                if len(self.dict) == 0:\n",
    "                    self.enqueue(key)\n",
    "                    self.dict[key] = self.head\n",
    "                    return\n",
    "                    \n",
    "\n",
    "                # Helper references\n",
    "                #if self.dict.get(key) == self.head:\n",
    "                    #print(\"this is a head\")\n",
    "                #    return\n",
    "\n",
    "                current_node = self.dict.get(key)\n",
    "                one_previous = current_node.left\n",
    "                one_next = current_node.right\n",
    "                \n",
    "                # #handle neighbors\n",
    "                # shift = False\n",
    "                # #if the previous is none then that means we called the head\n",
    "                # if one_previous and current_node.frequency > one_previous.frequency:\n",
    "                #         shift = True\n",
    "                    \n",
    "                #     #one_previous.right = one_next\n",
    "                # #else:\n",
    "                # #   print(key, \" has no previous\")\n",
    "                # #if the next is none that means we called a tail\n",
    "                # if one_next and current_node.frequency > one_next.frequency:\n",
    "                #         shift = True\n",
    "\n",
    "\n",
    "            \n",
    "                if one_next:\n",
    "                    one_next.left = one_previous\n",
    "                    current_node.left = one_next\n",
    "                    one_next.right = current_node\n",
    "                    new_next = one_next.right\n",
    "                    if new_next:\n",
    "                        new_next.left = current_node\n",
    "                        current_node.right = new_next\n",
    "                    if one_previous:\n",
    "                        one_previous.right = one_next\n",
    "\n",
    "                #new head\n",
    "                # current_node.right = self.head\n",
    "                # self.head.left = current_node  \n",
    "                # self.head = current_node\n",
    "                \n",
    "                #set head previous to none\n",
    "                # self.head.left = None\n",
    "                \n",
    "            def sort(self):\n",
    "                for key in reversed(list(self.dict.keys())):\n",
    "                    current = self.dict.get(key)\n",
    "\n",
    "                    if current:\n",
    "                        left = current.left\n",
    "                        right = current.right\n",
    "                        curr_f = current.frequency\n",
    "\n",
    "                    if left:\n",
    "                        left_f = left.frequency\n",
    "                    else:\n",
    "                        left_f = 1000\n",
    "                    \n",
    "                    if right:\n",
    "                        right_f = right.frequency\n",
    "                    else:\n",
    "                        right_f = 1000\n",
    "                            \n",
    "                            \n",
    "                            \n",
    "                    while (right_f):\n",
    "                        self.shift(key)\n",
    "\n",
    "\n",
    "        #extract information about characters from data\n",
    "        kew = Queue()\n",
    "        #l_list = LinkedList()\n",
    "        for letter in data:\n",
    "            if kew.dict.get(letter):\n",
    "                kew.dict[letter].frequency += 1\n",
    "            else:\n",
    "                kew.enqueue(letter)\n",
    "                kew.dict[letter] = kew.head\n",
    "        \n",
    "        kew.shape()\n",
    "        #pseudocode\n",
    "        #sort the dictionary now\n",
    "        kew.sort()\n",
    "\n",
    "        kew.shape()\n",
    "\n",
    "        #now iterate over the dictionary tocreate a tree?\n",
    "        #sort the dictionary into a linked list? Pop off the list to create tree?\n",
    "\n",
    "        return kew "
   ]
  },
  {
   "cell_type": "code",
   "execution_count": 138,
   "metadata": {},
   "outputs": [
    {
     "name": "stdout",
     "output_type": "stream",
     "text": [
      "n 1\n",
      "o 2\n",
      "w 1\n",
      "t 4\n",
      "s 2\n",
      "d 2\n",
      "r 3\n",
      "i 2\n",
      "b 1\n",
      "  7\n",
      "e 5\n",
      "h 3\n",
      "T 1\n"
     ]
    },
    {
     "ename": "KeyboardInterrupt",
     "evalue": "",
     "output_type": "error",
     "traceback": [
      "\u001b[1;31m---------------------------------------------------------------------------\u001b[0m",
      "\u001b[1;31mKeyboardInterrupt\u001b[0m                         Traceback (most recent call last)",
      "\u001b[1;32m<ipython-input-138-00b52b4c1aa6>\u001b[0m in \u001b[0;36m<module>\u001b[1;34m\u001b[0m\n\u001b[1;32m----> 1\u001b[1;33m \u001b[0md\u001b[0m \u001b[1;33m=\u001b[0m \u001b[0mhuffman_encoding\u001b[0m\u001b[1;33m(\u001b[0m\u001b[0ma_great_sentence\u001b[0m\u001b[1;33m)\u001b[0m\u001b[1;33m\u001b[0m\u001b[1;33m\u001b[0m\u001b[0m\n\u001b[0m",
      "\u001b[1;32m<ipython-input-137-59b25560bdac>\u001b[0m in \u001b[0;36mhuffman_encoding\u001b[1;34m(data)\u001b[0m\n\u001b[0;32m    140\u001b[0m     \u001b[1;31m#pseudocode\u001b[0m\u001b[1;33m\u001b[0m\u001b[1;33m\u001b[0m\u001b[1;33m\u001b[0m\u001b[0m\n\u001b[0;32m    141\u001b[0m     \u001b[1;31m#sort the dictionary now\u001b[0m\u001b[1;33m\u001b[0m\u001b[1;33m\u001b[0m\u001b[1;33m\u001b[0m\u001b[0m\n\u001b[1;32m--> 142\u001b[1;33m     \u001b[0mkew\u001b[0m\u001b[1;33m.\u001b[0m\u001b[0msort\u001b[0m\u001b[1;33m(\u001b[0m\u001b[1;33m)\u001b[0m\u001b[1;33m\u001b[0m\u001b[1;33m\u001b[0m\u001b[0m\n\u001b[0m\u001b[0;32m    143\u001b[0m \u001b[1;33m\u001b[0m\u001b[0m\n\u001b[0;32m    144\u001b[0m     \u001b[0mkew\u001b[0m\u001b[1;33m.\u001b[0m\u001b[0mshape\u001b[0m\u001b[1;33m(\u001b[0m\u001b[1;33m)\u001b[0m\u001b[1;33m\u001b[0m\u001b[1;33m\u001b[0m\u001b[0m\n",
      "\u001b[1;32m<ipython-input-137-59b25560bdac>\u001b[0m in \u001b[0;36msort\u001b[1;34m(self)\u001b[0m\n\u001b[0;32m    124\u001b[0m \u001b[1;33m\u001b[0m\u001b[0m\n\u001b[0;32m    125\u001b[0m                 \u001b[1;32mwhile\u001b[0m \u001b[1;33m(\u001b[0m\u001b[0mright_f\u001b[0m\u001b[1;33m)\u001b[0m\u001b[1;33m:\u001b[0m\u001b[1;33m\u001b[0m\u001b[1;33m\u001b[0m\u001b[0m\n\u001b[1;32m--> 126\u001b[1;33m                     \u001b[0mself\u001b[0m\u001b[1;33m.\u001b[0m\u001b[0mshift\u001b[0m\u001b[1;33m(\u001b[0m\u001b[0mkey\u001b[0m\u001b[1;33m)\u001b[0m\u001b[1;33m\u001b[0m\u001b[1;33m\u001b[0m\u001b[0m\n\u001b[0m\u001b[0;32m    127\u001b[0m \u001b[1;33m\u001b[0m\u001b[0m\n\u001b[0;32m    128\u001b[0m \u001b[1;33m\u001b[0m\u001b[0m\n",
      "\u001b[1;32m<ipython-input-137-59b25560bdac>\u001b[0m in \u001b[0;36mshift\u001b[1;34m(self, key)\u001b[0m\n\u001b[0;32m     64\u001b[0m             \u001b[1;31m#    return\u001b[0m\u001b[1;33m\u001b[0m\u001b[1;33m\u001b[0m\u001b[1;33m\u001b[0m\u001b[0m\n\u001b[0;32m     65\u001b[0m \u001b[1;33m\u001b[0m\u001b[0m\n\u001b[1;32m---> 66\u001b[1;33m             \u001b[0mcurrent_node\u001b[0m \u001b[1;33m=\u001b[0m \u001b[0mself\u001b[0m\u001b[1;33m.\u001b[0m\u001b[0mdict\u001b[0m\u001b[1;33m.\u001b[0m\u001b[0mget\u001b[0m\u001b[1;33m(\u001b[0m\u001b[0mkey\u001b[0m\u001b[1;33m)\u001b[0m\u001b[1;33m\u001b[0m\u001b[1;33m\u001b[0m\u001b[0m\n\u001b[0m\u001b[0;32m     67\u001b[0m             \u001b[0mone_previous\u001b[0m \u001b[1;33m=\u001b[0m \u001b[0mcurrent_node\u001b[0m\u001b[1;33m.\u001b[0m\u001b[0mleft\u001b[0m\u001b[1;33m\u001b[0m\u001b[1;33m\u001b[0m\u001b[0m\n\u001b[0;32m     68\u001b[0m             \u001b[0mone_next\u001b[0m \u001b[1;33m=\u001b[0m \u001b[0mcurrent_node\u001b[0m\u001b[1;33m.\u001b[0m\u001b[0mright\u001b[0m\u001b[1;33m\u001b[0m\u001b[1;33m\u001b[0m\u001b[0m\n",
      "\u001b[1;31mKeyboardInterrupt\u001b[0m: "
     ]
    }
   ],
   "source": [
    "    d = huffman_encoding(a_great_sentence)"
   ]
  },
  {
   "cell_type": "code",
   "execution_count": 100,
   "metadata": {},
   "outputs": [],
   "source": [
    "current = d.dict.get('T')"
   ]
  },
  {
   "cell_type": "code",
   "execution_count": 128,
   "metadata": {},
   "outputs": [
    {
     "name": "stdout",
     "output_type": "stream",
     "text": [
      "n\n",
      "o\n",
      "w\n",
      "t\n",
      "s\n",
      "d\n",
      "r\n",
      "i\n",
      "b\n",
      " \n",
      "e\n",
      "h\n",
      "T\n"
     ]
    }
   ],
   "source": [
    "for key in reversed(list(d.dict.keys())):\n",
    "    print(key)"
   ]
  },
  {
   "cell_type": "code",
   "execution_count": null,
   "metadata": {},
   "outputs": [],
   "source": []
  }
 ],
 "metadata": {
  "interpreter": {
   "hash": "539e7d299b3df3a8010ebe89bfbcdc2451afee0fdff2ba38101ac841f5d50953"
  },
  "kernelspec": {
   "display_name": "Python 3.6.8 64-bit",
   "language": "python",
   "name": "python3"
  },
  "language_info": {
   "codemirror_mode": {
    "name": "ipython",
    "version": 3
   },
   "file_extension": ".py",
   "mimetype": "text/x-python",
   "name": "python",
   "nbconvert_exporter": "python",
   "pygments_lexer": "ipython3",
   "version": "3.6.8"
  },
  "orig_nbformat": 4
 },
 "nbformat": 4,
 "nbformat_minor": 2
}
