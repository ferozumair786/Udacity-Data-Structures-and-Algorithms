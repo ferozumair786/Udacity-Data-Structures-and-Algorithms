{
 "cells": [
  {
   "cell_type": "code",
   "execution_count": 212,
   "metadata": {},
   "outputs": [],
   "source": [
    "#Least recently used cache.\n",
    "#This has to be some kind of queue where I can add stuff kind of like a stack but then have the option to drop the bottom value\n",
    "#However, how do I call something in the middle of the stack? I'd need a dictionary for that.\n",
    "#If I use a dictionary AND a linked list I could keep constant time!\n",
    "\n",
    "#Initiate Node Class\n",
    "#from inspect import _Object\n",
    "\n",
    "\n",
    "class Node:\n",
    "    def __init__(self, value):\n",
    "        self.value = value\n",
    "        self.next = None\n",
    "        self.previous = None\n",
    "\n",
    "class LinkedList:\n",
    "    def __init__(self):\n",
    "        self.head = None\n",
    "        self.tail = None\n",
    "    \n",
    "    def prepend(self, value):\n",
    "        \"\"\" Prepend a node to the beginning of the list \"\"\"\n",
    "\n",
    "        if self.head is None:\n",
    "            self.head = Node(value)\n",
    "            self.tail = self.head\n",
    "            return\n",
    "\n",
    "        new_head = Node(value)\n",
    "        new_head.next = self.head\n",
    "        self.head.previous = new_head\n",
    "        self.head = new_head\n",
    "        #self.tail = self.head.next\n",
    "        \n",
    "    def append(self, value):\n",
    "        \"\"\" Append a node to the tail of the list \"\"\"\n",
    "\n",
    "        if self.head is None:\n",
    "            self.head = Node(value)\n",
    "            self.tail = self.head\n",
    "            return\n",
    "\n",
    "        new_tail = Node(value)\n",
    "        self.tail.next = new_tail\n",
    "        new_tail.previous = self.tail\n",
    "        self.tail = new_tail\n",
    "        # Solution\n",
    "\n",
    "\n",
    "#starter code:\n",
    "class LRU_Cache(object):\n",
    "\n",
    "    def __init__(self, capacity=object):\n",
    "        # Initialize class variables\n",
    "        self.dict = dict()\n",
    "        self.cache_size = capacity\n",
    "        self.list = LinkedList()\n",
    "\n",
    "    def cut(self):\n",
    "        \"\"\"cut off the tail of the linked list\"\"\"\n",
    "\n",
    "        tail_ = self.list.tail\n",
    "        tail_key = tail_.value\n",
    "        one_previous = tail_.previous\n",
    "\n",
    "        #change tail reference\n",
    "        if one_previous:\n",
    "            one_previous.next = None\n",
    "        self.list.tail = one_previous\n",
    "\n",
    "        #remove tail value from dictionary\n",
    "        del self.dict[tail_key]\n",
    "\n",
    "\n",
    "    def move_up(self, key):\n",
    "        \"\"\"move the node from the selected key up the list\"\"\"\n",
    "        if len(self.dict) == 0:\n",
    "            self.list.prepend(key)\n",
    "            self.dict[key] = self.list.head\n",
    "            return\n",
    "            \n",
    "\n",
    "        # Helper references\n",
    "        if self.dict.get(key) == self.list.head:\n",
    "            print(\"this is a head\")\n",
    "            return\n",
    "\n",
    "        current_node = self.dict.get(key)\n",
    "        one_previous = current_node.previous\n",
    "        one_next = current_node.next\n",
    "        \n",
    "        #handle neighbors\n",
    "        \n",
    "        #if the previous is none then that means we called the head\n",
    "        if one_previous:\n",
    "            one_previous.next = one_next\n",
    "        else:\n",
    "            print(key, \" has no previous\")\n",
    "        #if the next is none that means we called a tail\n",
    "        if one_next:\n",
    "            one_next.previous = one_previous\n",
    "        else:\n",
    "            print(key, \" has no next\")\n",
    "            self.list.tail = one_previous\n",
    "\n",
    "        #new head\n",
    "        current_node.next = self.list.head\n",
    "        self.list.head.previous = current_node  \n",
    "        self.list.head = current_node\n",
    "        \n",
    "        #set head previous to none\n",
    "        self.list.head.previous = None\n",
    "        \n",
    "\n",
    "    def get(self, key):\n",
    "        # Retrieve item from provided key. Return -1 if nonexistent. \n",
    "        return_node = self.dict.get(key)\n",
    "        if return_node != None:\n",
    "            \n",
    "            # The item searched has been touched now, it must be moved up in node\n",
    "            self.move_up(key)\n",
    "\n",
    "            # return the dictionary value\n",
    "            return return_node.value\n",
    "        else:\n",
    "            return -1\n",
    "        \n",
    "\n",
    "    def set(self, key, value):\n",
    "        # Set the value if the key is not present in the cache. If the cache is at capacity remove the oldest item. \n",
    "        if self.get(key) == value:\n",
    "            return\n",
    "        else:\n",
    "            #condition for first insertion\n",
    "            if len(self.dict) == 0:\n",
    "                self.dict[key] = Node(value)\n",
    "                self.list.head = self.dict.get(key)\n",
    "                self.list.tail = self.dict.get(key)\n",
    "            elif len(self.dict) < self.cache_size:\n",
    "                #prepend this as the new head\n",
    "                self.list.prepend(value)\n",
    "\n",
    "                #point new dictionary entry to new head\n",
    "                self.dict[key] = self.list.head\n",
    "            else:\n",
    "                #the len(self.dict) >= self.cache_size\n",
    "                #This means we have to cut the tail\n",
    "                self.cut()\n",
    "\n",
    "                #now we can insert a new value\n",
    "                self.list.prepend(value)\n",
    "\n",
    "                #point new entry in the dictionary to head\n",
    "                self.dict[key] = self.list.head\n",
    "\n",
    "        return\n",
    "\n"
   ]
  },
  {
   "cell_type": "code",
   "execution_count": 4,
   "metadata": {},
   "outputs": [],
   "source": [
    "ll = LinkedList()"
   ]
  },
  {
   "cell_type": "code",
   "execution_count": 5,
   "metadata": {},
   "outputs": [],
   "source": [
    "ll.prepend(1)"
   ]
  },
  {
   "cell_type": "code",
   "execution_count": 7,
   "metadata": {},
   "outputs": [
    {
     "name": "stdout",
     "output_type": "stream",
     "text": [
      "<__main__.LinkedList object at 0x0000017730932198>\n"
     ]
    }
   ],
   "source": [
    "print(ll)"
   ]
  },
  {
   "cell_type": "code",
   "execution_count": 71,
   "metadata": {},
   "outputs": [],
   "source": [
    "our_cache = LRU_Cache(5)"
   ]
  },
  {
   "cell_type": "code",
   "execution_count": 72,
   "metadata": {},
   "outputs": [],
   "source": [
    "our_cache.set(1,1)\n",
    "our_cache.set(2,2)\n",
    "our_cache.set(10,10)"
   ]
  },
  {
   "cell_type": "code",
   "execution_count": 73,
   "metadata": {},
   "outputs": [],
   "source": [
    "our_cache.dict.get(5)"
   ]
  },
  {
   "cell_type": "code",
   "execution_count": 77,
   "metadata": {},
   "outputs": [
    {
     "data": {
      "text/plain": [
       "10"
      ]
     },
     "execution_count": 77,
     "metadata": {},
     "output_type": "execute_result"
    }
   ],
   "source": [
    "our_cache.list.head.value"
   ]
  },
  {
   "cell_type": "code",
   "execution_count": 78,
   "metadata": {},
   "outputs": [
    {
     "data": {
      "text/plain": [
       "1"
      ]
     },
     "execution_count": 78,
     "metadata": {},
     "output_type": "execute_result"
    }
   ],
   "source": [
    "our_cache.list.tail.value"
   ]
  },
  {
   "cell_type": "code",
   "execution_count": 79,
   "metadata": {},
   "outputs": [
    {
     "data": {
      "text/plain": [
       "2"
      ]
     },
     "execution_count": 79,
     "metadata": {},
     "output_type": "execute_result"
    }
   ],
   "source": [
    "our_cache.get(2)"
   ]
  },
  {
   "cell_type": "code",
   "execution_count": 80,
   "metadata": {},
   "outputs": [
    {
     "data": {
      "text/plain": [
       "2"
      ]
     },
     "execution_count": 80,
     "metadata": {},
     "output_type": "execute_result"
    }
   ],
   "source": [
    "our_cache.list.head.value"
   ]
  },
  {
   "cell_type": "code",
   "execution_count": 57,
   "metadata": {},
   "outputs": [],
   "source": [
    "return_node = our_cache.dict.get(2)"
   ]
  },
  {
   "cell_type": "code",
   "execution_count": 58,
   "metadata": {},
   "outputs": [
    {
     "data": {
      "text/plain": [
       "True"
      ]
     },
     "execution_count": 58,
     "metadata": {},
     "output_type": "execute_result"
    }
   ],
   "source": [
    "return_node != None"
   ]
  },
  {
   "cell_type": "code",
   "execution_count": 59,
   "metadata": {},
   "outputs": [],
   "source": [
    "our_cache.move_up(2)"
   ]
  },
  {
   "cell_type": "code",
   "execution_count": 83,
   "metadata": {},
   "outputs": [
    {
     "data": {
      "text/plain": [
       "10"
      ]
     },
     "execution_count": 83,
     "metadata": {},
     "output_type": "execute_result"
    }
   ],
   "source": [
    "our_cache.dict[2].previous.value"
   ]
  },
  {
   "cell_type": "code",
   "execution_count": 97,
   "metadata": {},
   "outputs": [
    {
     "data": {
      "text/plain": [
       "2"
      ]
     },
     "execution_count": 97,
     "metadata": {},
     "output_type": "execute_result"
    }
   ],
   "source": [
    "our_cache.dict[1].previous.previous.value"
   ]
  },
  {
   "cell_type": "code",
   "execution_count": 98,
   "metadata": {},
   "outputs": [],
   "source": [
    "our_cache.cut()"
   ]
  },
  {
   "cell_type": "code",
   "execution_count": 103,
   "metadata": {},
   "outputs": [
    {
     "data": {
      "text/plain": [
       "10"
      ]
     },
     "execution_count": 103,
     "metadata": {},
     "output_type": "execute_result"
    }
   ],
   "source": [
    "our_cache.list.tail.value"
   ]
  },
  {
   "cell_type": "code",
   "execution_count": 213,
   "metadata": {},
   "outputs": [],
   "source": [
    "our_cache = LRU_Cache(5)\n",
    "\n",
    "our_cache.set(1, 1);\n",
    "our_cache.set(2, 2);\n",
    "our_cache.set(3, 3);\n",
    "our_cache.set(4, 4);"
   ]
  },
  {
   "cell_type": "code",
   "execution_count": 214,
   "metadata": {},
   "outputs": [
    {
     "data": {
      "text/plain": [
       "2"
      ]
     },
     "execution_count": 214,
     "metadata": {},
     "output_type": "execute_result"
    }
   ],
   "source": [
    "our_cache.get(2)"
   ]
  },
  {
   "cell_type": "code",
   "execution_count": 107,
   "metadata": {},
   "outputs": [],
   "source": [
    "        current_node = our_cache.dict.get(2)\n",
    "        one_previous = current_node.previous\n",
    "        one_next = current_node.next"
   ]
  },
  {
   "cell_type": "code",
   "execution_count": 108,
   "metadata": {},
   "outputs": [],
   "source": [
    "one_previous.next = one_next"
   ]
  },
  {
   "cell_type": "code",
   "execution_count": 109,
   "metadata": {},
   "outputs": [
    {
     "data": {
      "text/plain": [
       "3"
      ]
     },
     "execution_count": 109,
     "metadata": {},
     "output_type": "execute_result"
    }
   ],
   "source": [
    "one_previous.value"
   ]
  },
  {
   "cell_type": "code",
   "execution_count": 144,
   "metadata": {},
   "outputs": [
    {
     "data": {
      "text/plain": [
       "<__main__.Node at 0x1773130f978>"
      ]
     },
     "execution_count": 144,
     "metadata": {},
     "output_type": "execute_result"
    }
   ],
   "source": [
    "our_cache.dict.get(3).previous"
   ]
  },
  {
   "cell_type": "code",
   "execution_count": 145,
   "metadata": {},
   "outputs": [
    {
     "data": {
      "text/plain": [
       "3"
      ]
     },
     "execution_count": 145,
     "metadata": {},
     "output_type": "execute_result"
    }
   ],
   "source": [
    "our_cache.list.tail.previous.value"
   ]
  },
  {
   "cell_type": "code",
   "execution_count": 128,
   "metadata": {},
   "outputs": [],
   "source": [
    "new_head = Node(5)\n",
    "        # new_head.next = self.head\n",
    "        # self.head.previous = new_head\n",
    "        # self.head = new_head"
   ]
  },
  {
   "cell_type": "code",
   "execution_count": 129,
   "metadata": {},
   "outputs": [],
   "source": [
    "new_head.next = our_cache.list.head"
   ]
  },
  {
   "cell_type": "code",
   "execution_count": 131,
   "metadata": {},
   "outputs": [],
   "source": [
    "our_cache.list.head.previous = new_head"
   ]
  },
  {
   "cell_type": "code",
   "execution_count": 162,
   "metadata": {},
   "outputs": [
    {
     "data": {
      "text/plain": [
       "4"
      ]
     },
     "execution_count": 162,
     "metadata": {},
     "output_type": "execute_result"
    }
   ],
   "source": [
    "our_cache.list.head.next.value"
   ]
  },
  {
   "cell_type": "code",
   "execution_count": 229,
   "metadata": {},
   "outputs": [
    {
     "data": {
      "text/plain": [
       "-1"
      ]
     },
     "execution_count": 229,
     "metadata": {},
     "output_type": "execute_result"
    }
   ],
   "source": [
    "our_cache.get(3)"
   ]
  },
  {
   "cell_type": "code",
   "execution_count": 174,
   "metadata": {},
   "outputs": [
    {
     "data": {
      "text/plain": [
       "2"
      ]
     },
     "execution_count": 174,
     "metadata": {},
     "output_type": "execute_result"
    }
   ],
   "source": [
    "our_cache.list.head.next.next.next.value"
   ]
  },
  {
   "cell_type": "code",
   "execution_count": 228,
   "metadata": {},
   "outputs": [
    {
     "name": "stdout",
     "output_type": "stream",
     "text": [
      "[2, 4, 5, 7]\n"
     ]
    }
   ],
   "source": [
    "linked_list = []\n",
    "linked_list.append(our_cache.list.head.value)\n",
    "linked_list.append(our_cache.list.head.next.value)\n",
    "linked_list.append(our_cache.list.tail.previous.value)\n",
    "linked_list.append(our_cache.list.tail.value)\n",
    "print(linked_list)"
   ]
  },
  {
   "cell_type": "code",
   "execution_count": 217,
   "metadata": {},
   "outputs": [],
   "source": [
    "our_cache.set(6,6)"
   ]
  },
  {
   "cell_type": "code",
   "execution_count": 230,
   "metadata": {},
   "outputs": [
    {
     "ename": "TypeError",
     "evalue": "set() missing 1 required positional argument: 'value'",
     "output_type": "error",
     "traceback": [
      "\u001b[1;31m---------------------------------------------------------------------------\u001b[0m",
      "\u001b[1;31mTypeError\u001b[0m                                 Traceback (most recent call last)",
      "\u001b[1;32m<ipython-input-230-fedc57ca7da5>\u001b[0m in \u001b[0;36m<module>\u001b[1;34m\u001b[0m\n\u001b[1;32m----> 1\u001b[1;33m \u001b[0mour_cache\u001b[0m\u001b[1;33m.\u001b[0m\u001b[0mset\u001b[0m\u001b[1;33m(\u001b[0m\u001b[1;36m2\u001b[0m\u001b[1;33m)\u001b[0m\u001b[1;33m\u001b[0m\u001b[1;33m\u001b[0m\u001b[0m\n\u001b[0m",
      "\u001b[1;31mTypeError\u001b[0m: set() missing 1 required positional argument: 'value'"
     ]
    }
   ],
   "source": [
    "our_cache.set(2)"
   ]
  },
  {
   "cell_type": "code",
   "execution_count": 219,
   "metadata": {},
   "outputs": [
    {
     "data": {
      "text/plain": [
       "3"
      ]
     },
     "execution_count": 219,
     "metadata": {},
     "output_type": "execute_result"
    }
   ],
   "source": [
    "our_cache.list.tail.value"
   ]
  },
  {
   "cell_type": "code",
   "execution_count": null,
   "metadata": {},
   "outputs": [],
   "source": []
  }
 ],
 "metadata": {
  "interpreter": {
   "hash": "539e7d299b3df3a8010ebe89bfbcdc2451afee0fdff2ba38101ac841f5d50953"
  },
  "kernelspec": {
   "display_name": "Python 3.6.8 64-bit",
   "language": "python",
   "name": "python3"
  },
  "language_info": {
   "codemirror_mode": {
    "name": "ipython",
    "version": 3
   },
   "file_extension": ".py",
   "mimetype": "text/x-python",
   "name": "python",
   "nbconvert_exporter": "python",
   "pygments_lexer": "ipython3",
   "version": "3.6.8"
  },
  "orig_nbformat": 4
 },
 "nbformat": 4,
 "nbformat_minor": 2
}
