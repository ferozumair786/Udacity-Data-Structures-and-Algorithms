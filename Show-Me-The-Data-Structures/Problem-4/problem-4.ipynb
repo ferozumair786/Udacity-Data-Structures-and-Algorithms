{
 "cells": [
  {
   "cell_type": "code",
   "execution_count": 2,
   "metadata": {},
   "outputs": [],
   "source": [
    "class Group(object):\n",
    "    def __init__(self, _name):\n",
    "        self.name = _name\n",
    "        self.groups = []\n",
    "        self.users = []\n",
    "\n",
    "    def add_group(self, group):\n",
    "        self.groups.append(group)\n",
    "\n",
    "    def add_user(self, user):\n",
    "        self.users.append(user)\n",
    "\n",
    "    def get_groups(self):\n",
    "        return self.groups\n",
    "\n",
    "    def get_users(self):\n",
    "        return self.users\n",
    "\n",
    "    def get_name(self):\n",
    "        return self.name\n",
    "\n",
    "\n",
    "parent = Group(\"parent\")\n",
    "child = Group(\"child\")\n",
    "sub_child = Group(\"subchild\")\n",
    "\n",
    "sub_child_user = \"sub_child_user\"\n",
    "sub_child.add_user(sub_child_user)\n",
    "\n",
    "child.add_group(sub_child)\n",
    "parent.add_group(child)"
   ]
  },
  {
   "cell_type": "code",
   "execution_count": 31,
   "metadata": {},
   "outputs": [],
   "source": [
    "def is_user_in_group(user=None, group=None):\n",
    "    \"\"\"\n",
    "    Return True if user is in the group, False otherwise.\n",
    "\n",
    "    Args:\n",
    "      user(str): user name/id\n",
    "      group(class:Group): group to check user membership against\n",
    "    \"\"\"\n",
    "\n",
    "    if user and group:\n",
    "\n",
    "      if type(group) == Group:\n",
    "\n",
    "        user_list = group.get_users()\n",
    "\n",
    "        user_list.sort()\n",
    "\n",
    "        middle = None\n",
    "        lis = user_list.copy()\n",
    "\n",
    "        found = False\n",
    "        while found == False and len(lis) > 1:\n",
    "          l_mid = round(len(lis)/2)\n",
    "          middle = lis[l_mid]\n",
    "          if user == middle:\n",
    "            found = True\n",
    "            return found\n",
    "          elif user > middle:\n",
    "            lis = lis[l_mid:]\n",
    "          else:\n",
    "            lis = lis[0:l_mid]\n",
    "\n",
    "      \n",
    "\n",
    "    \n",
    "    "
   ]
  },
  {
   "cell_type": "code",
   "execution_count": 36,
   "metadata": {},
   "outputs": [],
   "source": [
    "name_list = ['tim', 'bob', 'azmina', 'jacob', 'sarah', 'luyan', 'admin', 'oracle', 'nero', 'peter parker', 'spiderman', 'jim', 'derek', 'umair', 'amelia', 'miguel', 'astoria']\n",
    "\n",
    "for name in name_list:\n",
    "    sub_child.add_user(name)\n"
   ]
  },
  {
   "cell_type": "code",
   "execution_count": 16,
   "metadata": {},
   "outputs": [],
   "source": [
    "def brute_is_user_in_group(user, group):\n",
    "\n",
    "    \n",
    "    for name in group.get_users():\n",
    "        if name == user:\n",
    "            return True"
   ]
  },
  {
   "cell_type": "code",
   "execution_count": 13,
   "metadata": {},
   "outputs": [
    {
     "data": {
      "text/plain": [
       "False"
      ]
     },
     "execution_count": 13,
     "metadata": {},
     "output_type": "execute_result"
    }
   ],
   "source": [
    "'a' > 'b'"
   ]
  },
  {
   "cell_type": "code",
   "execution_count": 27,
   "metadata": {},
   "outputs": [
    {
     "name": "stdout",
     "output_type": "stream",
     "text": [
      "1.27 µs ± 245 ns per loop (mean ± std. dev. of 7 runs, 1000000 loops each)\n"
     ]
    }
   ],
   "source": [
    "%%timeit\n",
    "\n",
    "brute_is_user_in_group('umair', sub_child)"
   ]
  },
  {
   "cell_type": "code",
   "execution_count": 35,
   "metadata": {},
   "outputs": [],
   "source": [
    "\n",
    "\n",
    "is_user_in_group('unaiza', sub_child)"
   ]
  },
  {
   "cell_type": "code",
   "execution_count": 29,
   "metadata": {},
   "outputs": [
    {
     "name": "stdout",
     "output_type": "stream",
     "text": [
      "7.87 µs ± 934 ns per loop (mean ± std. dev. of 7 runs, 100000 loops each)\n"
     ]
    }
   ],
   "source": [
    "%%timeit\n",
    "\n",
    "for name in name_list:\n",
    "    brute_is_user_in_group(name, sub_child)"
   ]
  },
  {
   "cell_type": "code",
   "execution_count": 30,
   "metadata": {},
   "outputs": [
    {
     "name": "stdout",
     "output_type": "stream",
     "text": [
      "45.2 µs ± 5.07 µs per loop (mean ± std. dev. of 7 runs, 10000 loops each)\n"
     ]
    }
   ],
   "source": [
    "%%timeit\n",
    "\n",
    "for name in name_list:\n",
    "    is_user_in_group(name, sub_child)"
   ]
  },
  {
   "cell_type": "code",
   "execution_count": 33,
   "metadata": {},
   "outputs": [],
   "source": [
    "# Add your own test cases: include at least three test cases\n",
    "# and two of them must include edge cases, such as null, empty or very large values\n",
    "\n",
    "# Test Case 1\n",
    "#name is at the end of the list\n",
    "is_user_in_group('umair', sub_child)\n",
    "\n",
    "# Test Case 2\n",
    "#user is null\n",
    "is_user_in_group(sub_child)\n",
    "\n",
    "# Test Case 3\n",
    "#group is not a group\n",
    "\n",
    "is_user_in_group('umair', name_list)"
   ]
  },
  {
   "cell_type": "code",
   "execution_count": null,
   "metadata": {},
   "outputs": [],
   "source": []
  }
 ],
 "metadata": {
  "interpreter": {
   "hash": "539e7d299b3df3a8010ebe89bfbcdc2451afee0fdff2ba38101ac841f5d50953"
  },
  "kernelspec": {
   "display_name": "Python 3.6.8 64-bit",
   "language": "python",
   "name": "python3"
  },
  "language_info": {
   "codemirror_mode": {
    "name": "ipython",
    "version": 3
   },
   "file_extension": ".py",
   "mimetype": "text/x-python",
   "name": "python",
   "nbconvert_exporter": "python",
   "pygments_lexer": "ipython3",
   "version": "3.6.8"
  },
  "orig_nbformat": 4
 },
 "nbformat": 4,
 "nbformat_minor": 2
}
